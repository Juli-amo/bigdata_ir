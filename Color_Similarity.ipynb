{
 "cells": [
  {
   "cell_type": "markdown",
   "metadata": {},
   "source": [
    "# Farbvergleich in Bildern\n",
    "\n",
    "Dieses Notebook zeigt zwei Methoden zur Berechnung der Farbähnlichkeit zwischen Bildern:\n",
    "\n",
    "1. Histogramm-Vergleich im HSV-Farbraum\n",
    "2. Vergleich dominanter Farben mittels K-Means-Clustering"
   ]
  },
  {
   "cell_type": "code",
   "execution_count": null,
   "metadata": {},
   "outputs": [],
   "source": [
    "import cv2\n",
    "import numpy as np\n",
    "import matplotlib.pyplot as plt\n",
    "from sklearn.cluster import KMeans\n",
    "from pathlib import Path"
   ]
  },
  {
   "cell_type": "code",
   "execution_count": null,
   "id": "59102ebc",
   "metadata": {},
   "outputs": [],
   "source": [
    "# Bilder laden"
   ]
  },
  {
   "cell_type": "markdown",
   "id": "9d42d53c",
   "metadata": {},
   "source": [
    "Methode 1: Histogrammvergleich\n",
    "\n",
    "- Konvertieren der Bilder in den HSV-Farbraum\n",
    "\n",
    "- Berechnung eines Farb-Histogramms\n",
    "\n",
    "- Vergleich der Histogramme mit der Korrelationsmethode (cv2.HISTCMP_CORREL)"
   ]
  },
  {
   "cell_type": "code",
   "execution_count": null,
   "id": "6c0b7652",
   "metadata": {},
   "outputs": [],
   "source": [
    "# Histogrammvergleich"
   ]
  },
  {
   "cell_type": "markdown",
   "id": "66a5b220",
   "metadata": {},
   "source": [
    "Methode 2: Dominante Farben via K-Means\n",
    "\n",
    "- Extrahieren der 3 häufigsten Farben pro Bild\n",
    "\n",
    "- Vergleich der Farbzentren durch euklidische Distanz\n",
    "\n",
    "- Ziel: eine kleinere Distanz bedeutet größere Farbähnlichkeit"
   ]
  },
  {
   "cell_type": "code",
   "execution_count": null,
   "id": "9fa709b1",
   "metadata": {},
   "outputs": [],
   "source": [
    "# K-means clustering"
   ]
  },
  {
   "cell_type": "code",
   "execution_count": null,
   "id": "10db854a",
   "metadata": {},
   "outputs": [],
   "source": [
    "# Farbpaletten plotten"
   ]
  }
 ],
 "metadata": {
  "kernelspec": {
   "display_name": "Python 3",
   "language": "python",
   "name": "python3"
  },
  "language_info": {
   "codemirror_mode": {
    "name": "ipython",
    "version": 3
   },
   "file_extension": ".py",
   "mimetype": "text/x-python",
   "name": "python",
   "nbconvert_exporter": "python",
   "pygments_lexer": "ipython3",
   "version": "3.8.5"
  }
 },
 "nbformat": 4,
 "nbformat_minor": 5
}
